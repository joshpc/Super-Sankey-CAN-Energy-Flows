{
 "cells": [
  {
   "cell_type": "markdown",
   "metadata": {},
   "source": [
    "# Data cleaning"
   ]
  },
  {
   "cell_type": "markdown",
   "metadata": {},
   "source": [
    "### Imports\n",
    "Import libraries and write settings here."
   ]
  },
  {
   "cell_type": "code",
   "execution_count": 8,
   "metadata": {
    "ExecuteTime": {
     "end_time": "2020-12-07T03:03:36.289681Z",
     "start_time": "2020-12-07T03:03:35.568612Z"
    }
   },
   "outputs": [
    {
     "name": "stdout",
     "output_type": "stream",
     "text": [
      "The autoreload extension is already loaded. To reload it, use:\n",
      "  %reload_ext autoreload\n",
      "The dotenv extension is already loaded. To reload it, use:\n",
      "  %reload_ext dotenv\n"
     ]
    }
   ],
   "source": [
    "%load_ext autoreload\n",
    "%autoreload\n",
    "%load_ext dotenv\n",
    "%dotenv\n",
    "\n",
    "import pandas as pd\n",
    "import os\n",
    "import qgrid\n",
    "import ipywidgets\n",
    "import numpy as np"
   ]
  },
  {
   "cell_type": "markdown",
   "metadata": {},
   "source": [
    "### Set up extractions from each nrcan csv"
   ]
  },
  {
   "cell_type": "code",
   "execution_count": 9,
   "metadata": {},
   "outputs": [],
   "source": [
    "#extract target name from table name\n",
    "def substring_table(tableName):\n",
    "    start = tableName.find(\": \") + len(\": \")\n",
    "    end = tableName.find(\" Secondary\")\n",
    "    substring = tableName[start:end]\n",
    "    return substring\n",
    "\n",
    "#rename Source and Value columns from table\n",
    "def rename_columns(df):\n",
    "    df.columns = ['Source', 'Value']\n",
    "    return df\n",
    "\n",
    "#Concatenate table_id number\n",
    "def write_table_id(index):\n",
    "    table_id = 'id_ca_e_' + str(index)\n",
    "    return table_id\n",
    "\n",
    "#add additional columns to table\n",
    "def add_other_data(df, targetName, table_id):\n",
    "    df.insert(1, 'Target', targetName)\n",
    "    df.insert(3, 'Units', 'Petajoules')\n",
    "    df.insert(4, 'Table ID', table_id)\n",
    "    return df\n",
    "\n",
    "#extract only relevant data\n",
    "#note locations are hardcodes for nrcan files types -- all are equivalent\n",
    "def extract_relevant_data(df):\n",
    "    df = df.drop(df.iloc[:, 2:29], inplace = False, axis = 1)\n",
    "    df = df.iloc[13:23,:]\n",
    "    df = df.drop('Back to main menu',1)\n",
    "    return df\n",
    "\n",
    "qgrid.enable()"
   ]
  },
  {
   "cell_type": "markdown",
   "metadata": {},
   "source": [
    "### Loop Through Tables 9 - 67 and append to master df"
   ]
  },
  {
   "cell_type": "code",
   "execution_count": 13,
   "metadata": {
    "ExecuteTime": {
     "end_time": "2020-12-07T03:03:36.304227Z",
     "start_time": "2020-12-07T03:03:36.291715Z"
    },
    "scrolled": false
   },
   "outputs": [],
   "source": [
    "filePath = 'data/idca2017e/id_ca_e_'\n",
    "net_df = pd.DataFrame(columns=['Source','Target','Value','Units','Table ID'])\n",
    "\n",
    "#index through all tables in idca2017e folder\n",
    "for x in range(9,68):\n",
    "    fileIndex = str(x)\n",
    "    path = filePath + fileIndex + '.csv'\n",
    "    df = pd.read_csv(path, encoding='cp1252', header=0)\n",
    "    tableName = df.iloc[6,0]\n",
    "    targetName = substring_table(tableName)\n",
    "    table_id = write_table_id(fileIndex)\n",
    "    df = extract_relevant_data(df)\n",
    "    df = df.dropna(axis='columns')\n",
    "    df = rename_columns(df)\n",
    "    df = add_other_data(df, targetName, table_id)\n",
    "    net_df = net_df.append(df)"
   ]
  },
  {
   "cell_type": "code",
   "execution_count": 11,
   "metadata": {},
   "outputs": [],
   "source": [
    "df = net_df "
   ]
  },
  {
   "cell_type": "markdown",
   "metadata": {},
   "source": [
    "### Drop zeroes and hidden / na values"
   ]
  },
  {
   "cell_type": "code",
   "execution_count": 12,
   "metadata": {},
   "outputs": [
    {
     "data": {
      "application/vnd.jupyter.widget-view+json": {
       "model_id": "afdf1e118793453693810a53bc47609c",
       "version_major": 2,
       "version_minor": 0
      },
      "text/plain": [
       "QgridWidget(grid_options={'fullWidthRows': True, 'syncColumnCellResize': True, 'forceFitColumns': True, 'defau…"
      ]
     },
     "metadata": {},
     "output_type": "display_data"
    }
   ],
   "source": [
    "# replace confidential labels and n/a with nan\n",
    "df.replace(\"X\", np.nan, inplace=True)\n",
    "df.replace(\"n.a.\", np.nan, inplace=True)\n",
    "  \n",
    "# Convert values to numeric\n",
    "df['Value'] = pd.to_numeric(df['Value'])\n",
    "\n",
    "display(df)"
   ]
  },
  {
   "cell_type": "markdown",
   "metadata": {},
   "source": [
    "# Export data"
   ]
  },
  {
   "cell_type": "code",
   "execution_count": 219,
   "metadata": {},
   "outputs": [],
   "source": [
    "#export data with zeroes\n",
    "csvName = \"id_ca_e_compiled.csv\"\n",
    "df.to_csv(csvName, index=False)"
   ]
  },
  {
   "cell_type": "code",
   "execution_count": 222,
   "metadata": {},
   "outputs": [
    {
     "data": {
      "application/vnd.jupyter.widget-view+json": {
       "model_id": "7a1973e3d27d4060a552d84d76eedbd1",
       "version_major": 2,
       "version_minor": 0
      },
      "text/plain": [
       "QgridWidget(grid_options={'fullWidthRows': True, 'syncColumnCellResize': True, 'forceFitColumns': True, 'defau…"
      ]
     },
     "metadata": {},
     "output_type": "display_data"
    }
   ],
   "source": [
    "df_no_z = df[df.Value != 0]\n",
    "display(df_no_z)"
   ]
  },
  {
   "cell_type": "code",
   "execution_count": 224,
   "metadata": {},
   "outputs": [],
   "source": [
    "#export data without zeroes\n",
    "csvName2 = \"id_ca_e_compiled_no_Zeroes.csv\"\n",
    "df_no_z.to_csv(csvName2, index=False)"
   ]
  }
 ],
 "metadata": {
  "kernelspec": {
   "display_name": "Python [conda env:supersankey] *",
   "language": "python",
   "name": "conda-env-supersankey-py"
  },
  "language_info": {
   "codemirror_mode": {
    "name": "ipython",
    "version": 3
   },
   "file_extension": ".py",
   "mimetype": "text/x-python",
   "name": "python",
   "nbconvert_exporter": "python",
   "pygments_lexer": "ipython3",
   "version": "3.8.6"
  },
  "toc": {
   "base_numbering": 1,
   "nav_menu": {},
   "number_sections": true,
   "sideBar": true,
   "skip_h1_title": false,
   "title_cell": "Table of Contents",
   "title_sidebar": "Contents",
   "toc_cell": false,
   "toc_position": {},
   "toc_section_display": true,
   "toc_window_display": false
  }
 },
 "nbformat": 4,
 "nbformat_minor": 4
}
